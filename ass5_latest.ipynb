{
 "cells": [
  {
   "cell_type": "code",
   "execution_count": null,
   "metadata": {},
   "outputs": [],
   "source": [
    "!pip install gensim #word2vector"
   ]
  },
  {
   "cell_type": "code",
   "execution_count": null,
   "metadata": {},
   "outputs": [],
   "source": [
    "pip install nltk #test preprocessing"
   ]
  },
  {
   "cell_type": "code",
   "execution_count": 1,
   "metadata": {
    "colab": {
     "base_uri": "https://localhost:8080/"
    },
    "executionInfo": {
     "elapsed": 3709,
     "status": "ok",
     "timestamp": 1700375915797,
     "user": {
      "displayName": "Harish Bapat",
      "userId": "01261412703411895454"
     },
     "user_tz": -330
    },
    "id": "Il4OWhgbHbJz",
    "outputId": "062cd898-50f6-469f-bfd9-3864cc5c3f5c"
   },
   "outputs": [
    {
     "name": "stderr",
     "output_type": "stream",
     "text": [
      "[nltk_data] Downloading package punkt to /home/parth/nltk_data...\n",
      "[nltk_data]   Unzipping tokenizers/punkt.zip.\n",
      "[nltk_data] Downloading package stopwords to /home/parth/nltk_data...\n",
      "[nltk_data]   Unzipping corpora/stopwords.zip.\n"
     ]
    },
    {
     "data": {
      "text/plain": [
       "True"
      ]
     },
     "execution_count": 1,
     "metadata": {},
     "output_type": "execute_result"
    }
   ],
   "source": [
    "from gensim.models import Word2Vec #continous bag of words\n",
    "from nltk.tokenize import word_tokenize  #for cbow model\n",
    "from nltk.corpus import stopwords\n",
    "import string  #punctuation handeling\n",
    "import nltk\n",
    "#context size here is 2\n",
    "nltk.download('punkt') #tokenizers\n",
    "nltk.download('stopwords')"
   ]
  },
  {
   "cell_type": "code",
   "execution_count": 11,
   "metadata": {},
   "outputs": [],
   "source": [
    "\n",
    "def preprocess_text(text):\n",
    "    # Tokenize the text into words\n",
    "    tokens = word_tokenize(text.lower())\n",
    "\n",
    "    # Remove stopwords and punctuation\n",
    "    stop_words = set(stopwords.words('english'))\n",
    "    tokens = [word for word in tokens if word.isalpha() and word not in stop_words and word not in string.punctuation]\n",
    "\n",
    "    return tokens\n"
   ]
  },
  {
   "cell_type": "code",
   "execution_count": 12,
   "metadata": {},
   "outputs": [
    {
     "name": "stderr",
     "output_type": "stream",
     "text": [
      "[nltk_data] Downloading package punkt_tab to /home/parth/nltk_data...\n",
      "[nltk_data]   Package punkt_tab is already up-to-date!\n"
     ]
    },
    {
     "data": {
      "text/plain": [
       "True"
      ]
     },
     "execution_count": 12,
     "metadata": {},
     "output_type": "execute_result"
    }
   ],
   "source": [
    "import nltk\n",
    "nltk.download('punkt_tab')"
   ]
  },
  {
   "cell_type": "code",
   "execution_count": 13,
   "metadata": {},
   "outputs": [],
   "source": [
    "# Sample text for training the CBOW model\n",
    "text = \"Hi my name is Harish.I love to read.I love to sing.Thats all folks\"\n",
    "\n",
    "# Preprocess the text\n",
    "tokens = preprocess_text(text)\n",
    "\n",
    "# Create training data with context and target word\n",
    "training_data = []\n",
    "context_size = 2  # Adjust the context size as needed"
   ]
  },
  {
   "cell_type": "code",
   "execution_count": 14,
   "metadata": {},
   "outputs": [],
   "source": [
    "for i in range(context_size, len(tokens) - context_size):\n",
    "    context = tokens[i - context_size : i] + tokens[i + 1 : i + 1 + context_size]\n",
    "    target = tokens[i]\n",
    "    training_data.append(context + [target])  # Combine context and target into a single list"
   ]
  },
  {
   "cell_type": "code",
   "execution_count": 15,
   "metadata": {},
   "outputs": [],
   "source": [
    "# Define the CBOW model using Word2Vec\n",
    "model_cbow = Word2Vec(sentences=training_data, vector_size=500, window=context_size, sg=0, min_count=1, workers=4)\n",
    "\n",
    "# Training the CBOW model\n",
    "model_cbow.train(training_data, total_examples=len(training_data), epochs=20)\n",
    "\n",
    "# Given two previous and two latter words, predict the target word\n",
    "previous_words = [\"name\", \"Harish\"]\n",
    "latter_words = [\"sing\", \"folks\"]\n"
   ]
  },
  {
   "cell_type": "code",
   "execution_count": 16,
   "metadata": {},
   "outputs": [
    {
     "name": "stdout",
     "output_type": "stream",
     "text": [
      "Predicted word: [('love', 0.25000066)]\n"
     ]
    }
   ],
   "source": [
    "# Use the predict_output_word function from gensim.models.word2vec module\n",
    "predicted_word = model_cbow.predict_output_word(previous_words + latter_words, topn=1)\n",
    "\n",
    "print(f\"Predicted word: {predicted_word}\")\n"
   ]
  },
  {
   "cell_type": "code",
   "execution_count": 17,
   "metadata": {
    "colab": {
     "base_uri": "https://localhost:8080/"
    },
    "executionInfo": {
     "elapsed": 549,
     "status": "ok",
     "timestamp": 1700296496980,
     "user": {
      "displayName": "Harish Bapat",
      "userId": "01261412703411895454"
     },
     "user_tz": -330
    },
    "id": "MJ8u2oURHde5",
    "outputId": "f6f8ce85-6f6a-48f6-9480-4af74ef36edb"
   },
   "outputs": [
    {
     "name": "stdout",
     "output_type": "stream",
     "text": [
      "Words most similar to '[('love', 0.25000066)]':\n",
      "name: 0.006858860608190298\n",
      "hi: -0.04485169053077698\n",
      "folks: -0.05462680757045746\n"
     ]
    }
   ],
   "source": [
    "similar_words = model_cbow.wv.most_similar(predicted_word, topn=5) \n",
    "\n",
    "print(f\"Words most similar to '{predicted_word}':\")\n",
    "for word, similarity in similar_words:\n",
    "    print(f\"{word}: {similarity}\")"
   ]
  },
  {
   "cell_type": "code",
   "execution_count": 18,
   "metadata": {
    "colab": {
     "base_uri": "https://localhost:8080/"
    },
    "executionInfo": {
     "elapsed": 390,
     "status": "ok",
     "timestamp": 1700282105226,
     "user": {
      "displayName": "Harish Bapat",
      "userId": "01261412703411895454"
     },
     "user_tz": -330
    },
    "id": "d1cmIhS9H80x",
    "outputId": "2e9e78d3-1b2f-458d-c472-bbb04d1453a5"
   },
   "outputs": [
    {
     "data": {
      "text/plain": [
       "['hi', 'name', 'love', 'love', 'folks']"
      ]
     },
     "execution_count": 18,
     "metadata": {},
     "output_type": "execute_result"
    }
   ],
   "source": [
    "tokens"
   ]
  },
  {
   "cell_type": "code",
   "execution_count": null,
   "metadata": {},
   "outputs": [],
   "source": []
  }
 ],
 "metadata": {
  "colab": {
   "provenance": []
  },
  "kernelspec": {
   "display_name": "Python 3 (ipykernel)",
   "language": "python",
   "name": "python3"
  },
  "language_info": {
   "codemirror_mode": {
    "name": "ipython",
    "version": 3
   },
   "file_extension": ".py",
   "mimetype": "text/x-python",
   "name": "python",
   "nbconvert_exporter": "python",
   "pygments_lexer": "ipython3",
   "version": "3.10.12"
  }
 },
 "nbformat": 4,
 "nbformat_minor": 4
}
